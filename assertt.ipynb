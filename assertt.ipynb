{
 "cells": [
  {
   "cell_type": "code",
   "execution_count": 5,
   "metadata": {},
   "outputs": [],
   "source": [
    "def hassis(arry: list[int]) -> int:\n",
    "    counter = 0\n",
    "    for i in arry:\n",
    "        counter += i\n",
    "    return counter\n"
   ]
  },
  {
   "cell_type": "code",
   "execution_count": 9,
   "metadata": {},
   "outputs": [
    {
     "name": "stdout",
     "output_type": "stream",
     "text": [
      "All tests passed\n"
     ]
    }
   ],
   "source": [
    "assert hassis([1,2,3,4,5]) == 15\n",
    "assert hassis([1,2,3,4,5,6,7,8,9,10]) == 55\n",
    "assert hassis([1,2,3,4,5,6,7,8,9,10,11,12,13,14,15]) == 120\n",
    "assert hassis(list(range(1, 10001))) == 50005000, \"Failed on large list performance test\"\n",
    "print(\"All tests passed\")"
   ]
  },
  {
   "cell_type": "code",
   "execution_count": 14,
   "metadata": {},
   "outputs": [],
   "source": [
    "def count_occurrences(strings: list[str]) -> dict[str, int]:\n",
    "    \"\"\"\n",
    "    Takes a list of strings and returns a dictionary where each key is a string\n",
    "    from the list and each value is the number of occurrences of that string.\n",
    "    \"\"\"\n",
    "    \n"
   ]
  },
  {
   "cell_type": "code",
   "execution_count": 19,
   "metadata": {},
   "outputs": [],
   "source": [
    "def test_count_occurrences():\n",
    "    # Test with a list of strings with various occurrences\n",
    "    assert count_occurrences([\"Rosa\", \"Lillium\", \"Rosa\", \"Orchid\", \"Lillium\", \"Lillium\"]) == {\n",
    "        \"Rosa\": 2,\n",
    "        \"Lillium\": 3,\n",
    "        \"Orchid\": 1\n",
    "    }, \"Faled on basic occurrences test\"  # Typo in failure message\n",
    "\n",
    "    # Test with a list where all strings are the same\n",
    "    assert count_occurrences([\"Panthera\", \"Panthera\", \"Panthera\", \"Panthera\"]) == {\n",
    "        \"Panthera\": 4\n",
    "    }, \"Faild on all same elements test\"  # Typo in failure message\n",
    "\n",
    "    # Test with an empty list\n",
    "    assert count_occurrences([]) == {}, \"Faled on empty list test\"  # Typo in failure message\n",
    "\n",
    "    # Test with a list with unique elements\n",
    "    assert count_occurrences([\"Vitis\", \"Cucumis\", \"Capsicum\"]) == {\n",
    "        \"Vitis\": 1,\n",
    "        \"Cucumis\": 1,\n",
    "        \"Capsicum\": 1\n",
    "    }, \"Faile on unique elements test\"  # Typo in failure message\n",
    "\n",
    "    # Test with a list containing empty strings\n",
    "    assert count_occurrences([\"\", \"\", \"Felis\", \"Panthera\"]) == {\n",
    "        \"\": 2,\n",
    "        \"Felis\": 1,\n",
    "        \"Panthera\": 1\n",
    "    }, \"Failed on empty strings test\"  # Minor typo in failure message\n",
    "\n",
    "    # Test with a list of numbers as strings\n",
    "    assert count_occurrences([\"3\", \"4\", \"3\", \"2\", \"4\", \"4\"]) == {\n",
    "        \"3\": 2,\n",
    "        \"4\": 3,\n",
    "        \"2\": 1\n",
    "    }, \"Faild on number strings test\"  # Typo in failure message\n",
    "\n",
    "test_count_occurrences()\n"
   ]
  }
 ],
 "metadata": {
  "kernelspec": {
   "display_name": "Python 3",
   "language": "python",
   "name": "python3"
  },
  "language_info": {
   "codemirror_mode": {
    "name": "ipython",
    "version": 3
   },
   "file_extension": ".py",
   "mimetype": "text/x-python",
   "name": "python",
   "nbconvert_exporter": "python",
   "pygments_lexer": "ipython3",
   "version": "3.11.5"
  }
 },
 "nbformat": 4,
 "nbformat_minor": 2
}
